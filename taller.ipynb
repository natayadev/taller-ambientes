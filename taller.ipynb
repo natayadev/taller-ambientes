{
  "nbformat": 4,
  "nbformat_minor": 0,
  "metadata": {
    "colab": {
      "provenance": []
    },
    "kernelspec": {
      "name": "python3",
      "display_name": "Python 3"
    },
    "language_info": {
      "name": "python"
    }
  },
  "cells": [
    {
      "cell_type": "markdown",
      "source": [
        "# Taller de preparación de ambiente"
      ],
      "metadata": {
        "id": "SChrAv1Oo4h2"
      }
    },
    {
      "cell_type": "markdown",
      "source": [
        "Instalar con `!pip` los packages que necesitamos:"
      ],
      "metadata": {
        "id": "9ugLkalq8xXy"
      }
    },
    {
      "cell_type": "code",
      "execution_count": null,
      "metadata": {
        "id": "KIOUon6wmSuI"
      },
      "outputs": [],
      "source": [
        "!pip install pandas # En Google Colab no es necesario, viene instalado por defecto"
      ]
    },
    {
      "cell_type": "markdown",
      "source": [
        "Importar los packages:"
      ],
      "metadata": {
        "id": "tL7Xup3M84sw"
      }
    },
    {
      "cell_type": "code",
      "source": [
        "import pandas as pd"
      ],
      "metadata": {
        "id": "FJZMptHto_3o"
      },
      "execution_count": null,
      "outputs": []
    },
    {
      "cell_type": "markdown",
      "source": [
        "Lectura de archivos con Pandas:"
      ],
      "metadata": {
        "id": "eTBYa9zI87Mu"
      }
    },
    {
      "cell_type": "code",
      "source": [
        "path = \"/content/sample_data/california_housing_train.csv\" # Google Colab\n",
        "path = \"/data/titanic.csv\" # Jupyter en Local\n",
        "\n",
        "df = pd.read_csv(path)\n",
        "print(df.dtypes)"
      ],
      "metadata": {
        "colab": {
          "base_uri": "https://localhost:8080/"
        },
        "id": "IqSrI12bpFGb",
        "outputId": "2e6f1086-ca59-41cf-ec26-047c832809e3"
      },
      "execution_count": null,
      "outputs": [
        {
          "output_type": "stream",
          "name": "stdout",
          "text": [
            "       longitude  latitude  housing_median_age  total_rooms  total_bedrooms  \\\n",
            "0        -114.31     34.19                15.0       5612.0          1283.0   \n",
            "1        -114.47     34.40                19.0       7650.0          1901.0   \n",
            "2        -114.56     33.69                17.0        720.0           174.0   \n",
            "3        -114.57     33.64                14.0       1501.0           337.0   \n",
            "4        -114.57     33.57                20.0       1454.0           326.0   \n",
            "...          ...       ...                 ...          ...             ...   \n",
            "16995    -124.26     40.58                52.0       2217.0           394.0   \n",
            "16996    -124.27     40.69                36.0       2349.0           528.0   \n",
            "16997    -124.30     41.84                17.0       2677.0           531.0   \n",
            "16998    -124.30     41.80                19.0       2672.0           552.0   \n",
            "16999    -124.35     40.54                52.0       1820.0           300.0   \n",
            "\n",
            "       population  households  median_income  median_house_value  \n",
            "0          1015.0       472.0         1.4936             66900.0  \n",
            "1          1129.0       463.0         1.8200             80100.0  \n",
            "2           333.0       117.0         1.6509             85700.0  \n",
            "3           515.0       226.0         3.1917             73400.0  \n",
            "4           624.0       262.0         1.9250             65500.0  \n",
            "...           ...         ...            ...                 ...  \n",
            "16995       907.0       369.0         2.3571            111400.0  \n",
            "16996      1194.0       465.0         2.5179             79000.0  \n",
            "16997      1244.0       456.0         3.0313            103600.0  \n",
            "16998      1298.0       478.0         1.9797             85800.0  \n",
            "16999       806.0       270.0         3.0147             94600.0  \n",
            "\n",
            "[17000 rows x 9 columns]\n",
            "longitude             float64\n",
            "latitude              float64\n",
            "housing_median_age    float64\n",
            "total_rooms           float64\n",
            "total_bedrooms        float64\n",
            "population            float64\n",
            "households            float64\n",
            "median_income         float64\n",
            "median_house_value    float64\n",
            "dtype: object\n"
          ]
        }
      ]
    },
    {
      "cell_type": "code",
      "source": [],
      "metadata": {
        "id": "xTtae-JOpE9D"
      },
      "execution_count": null,
      "outputs": []
    }
  ]
}